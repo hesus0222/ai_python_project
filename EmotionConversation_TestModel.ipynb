{
 "cells": [
  {
   "cell_type": "markdown",
   "id": "169573e8",
   "metadata": {},
   "source": [
    "# 모델 및 관련 객체 로드"
   ]
  },
  {
   "cell_type": "code",
   "execution_count": 1,
   "id": "9e71fd7f",
   "metadata": {},
   "outputs": [],
   "source": [
    "import joblib\n",
    "\n",
    "# 모델과 관련 객체 로드\n",
    "rf_model = joblib.load('best_rf_model.pkl')\n",
    "svm_model = joblib.load('best_svm_model.pkl')\n",
    "vectorizer = joblib.load('vectorizer.pkl')\n",
    "label_encoder = joblib.load('label_encoder.pkl')"
   ]
  },
  {
   "cell_type": "markdown",
   "id": "ee63eb07",
   "metadata": {},
   "source": [
    "# 데이터 로드 및 전처리"
   ]
  },
  {
   "cell_type": "code",
   "execution_count": 5,
   "id": "e57ea2b1",
   "metadata": {},
   "outputs": [],
   "source": [
    "import numpy as np\n",
    "import pandas as pd\n",
    "import re\n",
    "\n",
    "# 업데이트된 고객 지원 데이터 로드\n",
    "file_path = 'customer_support_data.xlsx'\n",
    "updated_data = pd.read_excel(file_path)\n",
    "\n",
    "# 불용어 리스트\n",
    "stopwords = set(['의','가','이','은','들','는','좀','잘','걍','과','도','를','으로','자','에','와','한','하다'])\n",
    "\n",
    "# 텍스트 정규화 함수\n",
    "def preprocess_text(text):\n",
    "    if pd.isnull(text):\n",
    "        return \"\"\n",
    "    text = text.lower()  # 소문자 변환\n",
    "    text = text.replace(\"[^가-ㅎㅏ-ㅣ가-힣 ]\",\"\")\n",
    "    text = text.replace(\"^ +\",\"\")\n",
    "    text = re.sub(r'\\d+', '', text)  # 숫자 제거\n",
    "    text = re.sub(r'\\s+', ' ', text)  # 불필요한 공백 제거\n",
    "    text = re.sub(r'[^\\w\\s]', '', text)  # 구두점 제거\n",
    "    \n",
    "    text = ' '.join([word for word in text.split() if word not in stopwords])  # 불용어 제거\n",
    "    return text\n",
    "\n",
    "# 응대메모 컬럼의 대화내용 전처리\n",
    "updated_data['processed_text'] = updated_data['응대메모'].apply(preprocess_text)\n"
   ]
  },
  {
   "cell_type": "markdown",
   "id": "121db577",
   "metadata": {},
   "source": [
    "# 감정예측"
   ]
  },
  {
   "cell_type": "code",
   "execution_count": 6,
   "id": "bc867d5d",
   "metadata": {},
   "outputs": [
    {
     "name": "stdout",
     "output_type": "stream",
     "text": [
      "                                                    응대메모 predicted_emotion\n",
      "0      기능의학 / 안과관련 방송보셨다고 함. 안과질환은 아니고 기능의학의 문제로 생긴 안...                분노\n",
      "1      빈혈로 인하여 철분주사 가능한지 문의. OOO님 진료 후 가능함 안내 드렸고 검사하...                불안\n",
      "2      수액 맞고 싶다고 하셨는데 퇴근이 6시여서 내원 어렵다고 말씀하셔서 수요일 야간진료...                불안\n",
      "3                                        방송/재진/진료/장이 불편함                상처\n",
      "4      방송보고 전화주심/대학병원이냐고 문의하셔서 아니라고 안내드리고 당뇨약처방 원하셔서 ...                상처\n",
      "...                                                  ...               ...\n",
      "11877                                  삭센다 1개 드림 / 보관중없음                상처\n",
      "11878              11월 말 전에 2번정도 오시면 동일 수액 놔주시면 됩니다 -dr최                기쁨\n",
      "11879                                    OOO님개 드림/ 보관중없음                상처\n",
      "11880                                          결과확인리콜/문자                상처\n",
      "11881                                          결과확인리콜/문자                상처\n",
      "\n",
      "[11882 rows x 2 columns]\n"
     ]
    }
   ],
   "source": [
    "# 대화내용을 TF-IDF 벡터로 변환\n",
    "updated_tfidf = vectorizer.transform(updated_data['processed_text'])\n",
    "\n",
    "# Random Forest 모델을 사용하여 예측\n",
    "rf_predictions = rf_model.predict(updated_tfidf)\n",
    "\n",
    "# SVM 모델을 사용하여 예측\n",
    "svm_predictions = svm_model.predict(updated_tfidf)\n",
    "\n",
    "# 다수결 방식으로 결합\n",
    "ensemble_predictions = np.array([rf_predictions, svm_predictions])\n",
    "final_predictions = np.apply_along_axis(lambda x: np.bincount(x).argmax(), axis=0, arr=ensemble_predictions)\n",
    "\n",
    "# 예측된 감정을 원래 레이블로 변환\n",
    "predicted_emotions = label_encoder.inverse_transform(final_predictions)\n",
    "\n",
    "# 결과를 데이터프레임에 추가\n",
    "updated_data['predicted_emotion'] = predicted_emotions\n",
    "\n",
    "# 결과 확인\n",
    "print(updated_data[['응대메모', 'predicted_emotion']])\n"
   ]
  },
  {
   "cell_type": "markdown",
   "id": "584811aa",
   "metadata": {},
   "source": [
    "# 결과확인"
   ]
  },
  {
   "cell_type": "code",
   "execution_count": 7,
   "id": "48dde735",
   "metadata": {},
   "outputs": [
    {
     "name": "stdout",
     "output_type": "stream",
     "text": [
      "예측 결과가 'customer_support_data_predicted.xlsx'에 저장되었습니다.\n"
     ]
    }
   ],
   "source": [
    "# 결과를 엑셀 파일로 저장\n",
    "output_file_path = 'customer_support_data_predicted.xlsx'\n",
    "updated_data.to_excel(output_file_path, index=False)\n",
    "print(f\"예측 결과가 '{output_file_path}'에 저장되었습니다.\")"
   ]
  },
  {
   "cell_type": "code",
   "execution_count": null,
   "id": "cf40740b",
   "metadata": {},
   "outputs": [],
   "source": []
  }
 ],
 "metadata": {
  "kernelspec": {
   "display_name": "Python 3 (ipykernel)",
   "language": "python",
   "name": "python3"
  },
  "language_info": {
   "codemirror_mode": {
    "name": "ipython",
    "version": 3
   },
   "file_extension": ".py",
   "mimetype": "text/x-python",
   "name": "python",
   "nbconvert_exporter": "python",
   "pygments_lexer": "ipython3",
   "version": "3.11.7"
  }
 },
 "nbformat": 4,
 "nbformat_minor": 5
}
