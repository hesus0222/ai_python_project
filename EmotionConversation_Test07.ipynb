{
 "cells": [
  {
   "cell_type": "code",
   "execution_count": 5,
   "id": "aa1652f0",
   "metadata": {},
   "outputs": [],
   "source": [
    "import pandas as pd\n",
    "import re\n",
    "from sklearn.feature_extraction.text import TfidfVectorizer\n",
    "from sklearn.preprocessing import LabelEncoder\n",
    "\n",
    "# 데이터 로드\n",
    "train_data = pd.read_excel('감성대화말뭉치(최종데이터)_Training.xlsx')\n",
    "validation_data = pd.read_excel('감성대화말뭉치(최종데이터)_Validation.xlsx')\n",
    "\n",
    "# 불용어 리스트\n",
    "stopwords = set(['의','가','이','은','들','는','좀','잘','걍','과','도','를','으로','자','에','와','한','하다'])\n",
    "\n",
    "# 텍스트 정규화 함수\n",
    "def preprocess_text(text):\n",
    "    if pd.isnull(text):\n",
    "        return \"\"\n",
    "    text = text.lower()  # 소문자 변환\n",
    "    text = text.replace(\"[^가-ㅎㅏ-ㅣ가-힣 ]\",\"\")\n",
    "    text = text.replace(\"^ +\",\"\")\n",
    "    text = re.sub(r'\\d+', '', text)  # 숫자 제거\n",
    "    text = re.sub(r'\\s+', ' ', text)  # 불필요한 공백 제거\n",
    "    text = re.sub(r'[^\\w\\s]', '', text)  # 구두점 제거\n",
    "    \n",
    "    text = ' '.join([word for word in text.split() if word not in stopwords])  # 불용어 제거\n",
    "    return text\n",
    "\n",
    "# 데이터 전처리 적용\n",
    "for col in ['사람문장1', '사람문장2', '사람문장3']:\n",
    "    train_data[col] = train_data[col].apply(preprocess_text)\n",
    "    validation_data[col] = validation_data[col].apply(preprocess_text)\n",
    "\n",
    "# 필요없는 열 제거 및 결측값 처리\n",
    "train_data = train_data.dropna(subset=['감정_대분류', '사람문장1'])\n",
    "validation_data = validation_data.dropna(subset=['감정_대분류', '사람문장1'])\n",
    "\n",
    "# 빈값을 빈 문자열로 대체\n",
    "train_data['사람문장2'] = train_data['사람문장2'].fillna(\"\")\n",
    "train_data['사람문장3'] = train_data['사람문장3'].fillna(\"\")\n",
    "validation_data['사람문장2'] = validation_data['사람문장2'].fillna(\"\")\n",
    "validation_data['사람문장3'] = validation_data['사람문장3'].fillna(\"\")\n",
    "\n",
    "# 세 개의 문장을 하나로 결합\n",
    "train_data['combined_text'] = train_data['사람문장1'] + ' ' + train_data['사람문장2'] + ' ' + train_data['사람문장3']\n",
    "validation_data['combined_text'] = validation_data['사람문장1'] + ' ' + validation_data['사람문장2'] + ' ' + validation_data['사람문장3']\n",
    "\n",
    "# 레이블 인코딩\n",
    "label_encoder = LabelEncoder()\n",
    "y_train_encoded = label_encoder.fit_transform(train_data['감정_대분류'])\n",
    "y_validation_encoded = label_encoder.transform(validation_data['감정_대분류'])\n",
    "\n",
    "# 텍스트와 레이블 추출\n",
    "X_train = train_data['combined_text']\n",
    "X_validation = validation_data['combined_text']\n",
    "\n",
    "# TF-IDF 벡터화\n",
    "vectorizer = TfidfVectorizer(max_features=10000, ngram_range=(1, 2))  # n-그램 적용, 최대 특징 수 증가\n",
    "X_train_tfidf = vectorizer.fit_transform(X_train)\n",
    "X_validation_tfidf = vectorizer.transform(X_validation)\n"
   ]
  },
  {
   "cell_type": "code",
   "execution_count": 6,
   "id": "4a941edc",
   "metadata": {},
   "outputs": [
    {
     "name": "stdout",
     "output_type": "stream",
     "text": [
      "Random Forest Validation Accuracy: 0.7224815539828339\n",
      "Random Forest Validation Classification Report:\n",
      "              precision    recall  f1-score   support\n",
      "\n",
      "          기쁨       0.83      0.87      0.85      1213\n",
      "          당황       0.77      0.65      0.70      1048\n",
      "          분노       0.75      0.72      0.73      1257\n",
      "          불안       0.64      0.79      0.71      1113\n",
      "          상처       0.62      0.64      0.63      1007\n",
      "          슬픔       0.74      0.64      0.69      1003\n",
      "\n",
      "    accuracy                           0.72      6641\n",
      "   macro avg       0.72      0.72      0.72      6641\n",
      "weighted avg       0.73      0.72      0.72      6641\n",
      "\n"
     ]
    }
   ],
   "source": [
    "from sklearn.ensemble import RandomForestClassifier\n",
    "from sklearn.metrics import classification_report, accuracy_score\n",
    "\n",
    "# Random Forest 모델 학습\n",
    "rf_model = RandomForestClassifier(n_estimators=100)\n",
    "rf_model.fit(X_train_tfidf, y_train_encoded)\n",
    "\n",
    "# 검증 데이터로 예측 수행\n",
    "y_pred_rf = rf_model.predict(X_validation_tfidf)\n",
    "\n",
    "# 평가\n",
    "print(\"Random Forest Validation Accuracy:\", accuracy_score(y_validation_encoded, y_pred_rf))\n",
    "print(\"Random Forest Validation Classification Report:\")\n",
    "print(classification_report(y_validation_encoded, y_pred_rf, target_names=label_encoder.classes_))\n"
   ]
  },
  {
   "cell_type": "code",
   "execution_count": 7,
   "id": "a9dcb91e",
   "metadata": {},
   "outputs": [
    {
     "name": "stdout",
     "output_type": "stream",
     "text": [
      "SVM Validation Accuracy: 0.7236861918385785\n",
      "SVM Validation Classification Report:\n",
      "              precision    recall  f1-score   support\n",
      "\n",
      "          기쁨       0.92      0.87      0.89      1213\n",
      "          당황       0.69      0.69      0.69      1048\n",
      "          분노       0.74      0.73      0.73      1257\n",
      "          불안       0.66      0.75      0.70      1113\n",
      "          상처       0.60      0.63      0.62      1007\n",
      "          슬픔       0.72      0.64      0.68      1003\n",
      "\n",
      "    accuracy                           0.72      6641\n",
      "   macro avg       0.72      0.72      0.72      6641\n",
      "weighted avg       0.73      0.72      0.72      6641\n",
      "\n"
     ]
    }
   ],
   "source": [
    "from sklearn.svm import SVC\n",
    "\n",
    "# SVM 모델 학습\n",
    "svm_model = SVC(probability=True)\n",
    "svm_model.fit(X_train_tfidf, y_train_encoded)\n",
    "\n",
    "# 검증 데이터로 예측 수행\n",
    "y_pred_svm = svm_model.predict(X_validation_tfidf)\n",
    "\n",
    "# 평가\n",
    "print(\"SVM Validation Accuracy:\", accuracy_score(y_validation_encoded, y_pred_svm))\n",
    "print(\"SVM Validation Classification Report:\")\n",
    "print(classification_report(y_validation_encoded, y_pred_svm, target_names=label_encoder.classes_))\n"
   ]
  },
  {
   "cell_type": "code",
   "execution_count": 8,
   "id": "4737d1ac",
   "metadata": {},
   "outputs": [
    {
     "name": "stdout",
     "output_type": "stream",
     "text": [
      "Ensemble Validation Accuracy: 0.7274506851377804\n",
      "Ensemble Validation Classification Report:\n",
      "              precision    recall  f1-score   support\n",
      "\n",
      "          기쁨       0.81      0.91      0.86      1213\n",
      "          당황       0.67      0.74      0.70      1048\n",
      "          분노       0.73      0.77      0.75      1257\n",
      "          불안       0.66      0.76      0.71      1113\n",
      "          상처       0.68      0.58      0.63      1007\n",
      "          슬픔       0.84      0.56      0.67      1003\n",
      "\n",
      "    accuracy                           0.73      6641\n",
      "   macro avg       0.73      0.72      0.72      6641\n",
      "weighted avg       0.73      0.73      0.72      6641\n",
      "\n"
     ]
    }
   ],
   "source": [
    "import numpy as np\n",
    "\n",
    "# 앙상블 예측\n",
    "y_pred_ensemble = np.array([y_pred_rf, y_pred_svm])\n",
    "y_pred_ensemble = np.apply_along_axis(lambda x: np.bincount(x).argmax(), axis=0, arr=y_pred_ensemble)\n",
    "\n",
    "# 평가\n",
    "print(\"Ensemble Validation Accuracy:\", accuracy_score(y_validation_encoded, y_pred_ensemble))\n",
    "print(\"Ensemble Validation Classification Report:\")\n",
    "print(classification_report(y_validation_encoded, y_pred_ensemble, target_names=label_encoder.classes_))\n"
   ]
  },
  {
   "cell_type": "code",
   "execution_count": 11,
   "id": "d1c760ab",
   "metadata": {},
   "outputs": [
    {
     "name": "stdout",
     "output_type": "stream",
     "text": [
      "문장: 그냥 평범한 하루였어요 별다른 일이 없었어요 일상적인 일만 있었어요 특별한 감정은 없었어요\n",
      "예측된 감정: 분노\n",
      "--------------------------------------------------\n"
     ]
    }
   ],
   "source": [
    "# 샘플 데이터 생성\n",
    "sample_data = {\n",
    "    '사람문장1': [\n",
    "        '그냥 평범한 하루였어요. 별다른 일이 없었어요.'\n",
    "    ],\n",
    "    '사람문장2': [\n",
    "        '일상적인 일만 있었어요.'\n",
    "    ],\n",
    "    '사람문장3': [\n",
    "        '특별한 감정은 없었어요.'\n",
    "    ]\n",
    "}\n",
    "\n",
    "# 데이터프레임으로 변환\n",
    "sample_df = pd.DataFrame(sample_data)\n",
    "\n",
    "# 텍스트 정규화 적용\n",
    "for col in ['사람문장1', '사람문장2', '사람문장3']:\n",
    "    sample_df[col] = sample_df[col].apply(preprocess_text)\n",
    "\n",
    "# 세 개의 문장을 하나로 결합\n",
    "sample_df['combined_text'] = sample_df['사람문장1'] + ' ' + sample_df['사람문장2'] + ' ' + sample_df['사람문장3']\n",
    "\n",
    "# 샘플 데이터를 TF-IDF 변환\n",
    "sample_tfidf = vectorizer.transform(sample_df['combined_text'])\n",
    "\n",
    "# 모델을 사용하여 예측\n",
    "sample_predictions_rf = rf_model.predict(sample_tfidf)\n",
    "sample_predictions_svm = svm_model.predict(sample_tfidf)\n",
    "sample_predictions_ensemble = np.array([sample_predictions_rf, sample_predictions_svm])\n",
    "sample_predictions_ensemble = np.apply_along_axis(lambda x: np.bincount(x).argmax(), axis=0, arr=sample_predictions_ensemble)\n",
    "\n",
    "# 결과 확인\n",
    "sample_predictions_ensemble_decoded = label_encoder.inverse_transform(sample_predictions_ensemble)\n",
    "for text, predicted_emotion in zip(sample_df['combined_text'], sample_predictions_ensemble_decoded):\n",
    "    print(f\"문장: {text}\")\n",
    "    print(f\"예측된 감정: {predicted_emotion}\")\n",
    "    print(\"-\" * 50)\n"
   ]
  },
  {
   "cell_type": "code",
   "execution_count": 12,
   "id": "291777ba",
   "metadata": {},
   "outputs": [
    {
     "data": {
      "text/plain": [
       "['label_encoder.pkl']"
      ]
     },
     "execution_count": 12,
     "metadata": {},
     "output_type": "execute_result"
    }
   ],
   "source": [
    "import joblib\n",
    "\n",
    "# 모델과 관련 객체 저장\n",
    "joblib.dump(rf_model, 'best_rf_model.pkl')\n",
    "joblib.dump(svm_model, 'best_svm_model.pkl')\n",
    "joblib.dump(vectorizer, 'vectorizer.pkl')\n",
    "joblib.dump(label_encoder, 'label_encoder.pkl')\n"
   ]
  },
  {
   "cell_type": "code",
   "execution_count": 16,
   "id": "d3c16d01",
   "metadata": {},
   "outputs": [
    {
     "data": {
      "image/png": "[encoded data removed]",
      "text/plain": [
       "<Figure size 1400x600 with 3 Axes>"
      ]
     },
     "metadata": {},
     "output_type": "display_data"
    },
    {
     "name": "stdout",
     "output_type": "stream",
     "text": [
      "Overall Accuracy: 0.73\n"
     ]
    }
   ],
   "source": [
    "import seaborn as sns\n",
    "import matplotlib.pyplot as plt\n",
    "import matplotlib.font_manager as fm\n",
    "\n",
    "# 나눔고딕 폰트 경로 설정\n",
    "font_path = 'C:/Windows/Fonts/NanumGothic.ttf'\n",
    "font_prop = fm.FontProperties(fname=font_path)\n",
    "plt.rcParams['font.family'] = font_prop.get_name()\n",
    "\n",
    "# Seaborn을 사용한 감정별 평가 결과 시각화\n",
    "ensemble_report = classification_report(y_validation_encoded, y_pred_ensemble, target_names=label_encoder.classes_, output_dict=True)\n",
    "ensemble_report_df = pd.DataFrame(ensemble_report).transpose()\n",
    "\n",
    "# 감정별 Precision, Recall, F1-Score 시각화\n",
    "plt.figure(figsize=(14, 6))\n",
    "\n",
    "# Precision\n",
    "plt.subplot(1, 3, 1)\n",
    "sns.barplot(x=ensemble_report_df.index[:-3], y=ensemble_report_df['precision'][:-3])\n",
    "plt.xlabel('Emotion')\n",
    "plt.ylabel('Precision')\n",
    "plt.title('Emotion-wise Precision')\n",
    "plt.xticks(rotation=45)\n",
    "\n",
    "# Recall\n",
    "plt.subplot(1, 3, 2)\n",
    "sns.barplot(x=ensemble_report_df.index[:-3], y=ensemble_report_df['recall'][:-3])\n",
    "plt.xlabel('Emotion')\n",
    "plt.ylabel('Recall')\n",
    "plt.title('Emotion-wise Recall')\n",
    "plt.xticks(rotation=45)\n",
    "\n",
    "# F1-Score\n",
    "plt.subplot(1, 3, 3)\n",
    "sns.barplot(x=ensemble_report_df.index[:-3], y=ensemble_report_df['f1-score'][:-3])\n",
    "plt.xlabel('Emotion')\n",
    "plt.ylabel('F1-Score')\n",
    "plt.title('Emotion-wise F1-Score')\n",
    "plt.xticks(rotation=45)\n",
    "\n",
    "plt.tight_layout()\n",
    "plt.show()\n",
    "\n",
    "# 전체 Accuracy 출력\n",
    "overall_accuracy = accuracy_score(y_validation_encoded, y_pred_ensemble)\n",
    "print(f\"Overall Accuracy: {overall_accuracy:.2f}\")"
   ]
  },
  {
   "cell_type": "code",
   "execution_count": null,
   "id": "08bcff59",
   "metadata": {},
   "outputs": [],
   "source": []
  },
  {
   "cell_type": "code",
   "execution_count": null,
   "id": "7700ea7e",
   "metadata": {},
   "outputs": [],
   "source": []
  }
 ],
 "metadata": {
  "kernelspec": {
   "display_name": "Python 3 (ipykernel)",
   "language": "python",
   "name": "python3"
  },
  "language_info": {
   "codemirror_mode": {
    "name": "ipython",
    "version": 3
   },
   "file_extension": ".py",
   "mimetype": "text/x-python",
   "name": "python",
   "nbconvert_exporter": "python",
   "pygments_lexer": "ipython3",
   "version": "3.11.7"
  }
 },
 "nbformat": 4,
 "nbformat_minor": 5
}
